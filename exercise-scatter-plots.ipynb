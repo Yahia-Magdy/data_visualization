{
 "cells": [
  {
   "cell_type": "markdown",
   "id": "2d0471dd",
   "metadata": {
    "papermill": {
     "duration": 0.011492,
     "end_time": "2022-07-02T02:20:39.040736",
     "exception": false,
     "start_time": "2022-07-02T02:20:39.029244",
     "status": "completed"
    },
    "tags": []
   },
   "source": [
    "**This notebook is an exercise in the [Data Visualization](https://www.kaggle.com/learn/data-visualization) course.  You can reference the tutorial at [this link](https://www.kaggle.com/alexisbcook/scatter-plots).**\n",
    "\n",
    "---\n"
   ]
  },
  {
   "cell_type": "markdown",
   "id": "b74502d2",
   "metadata": {
    "papermill": {
     "duration": 0.009623,
     "end_time": "2022-07-02T02:20:39.060441",
     "exception": false,
     "start_time": "2022-07-02T02:20:39.050818",
     "status": "completed"
    },
    "tags": []
   },
   "source": [
    "In this exercise, you will use your new knowledge to propose a solution to a real-world scenario.  To succeed, you will need to import data into Python, answer questions using the data, and generate **scatter plots** to understand patterns in the data.\n",
    "\n",
    "## Scenario\n",
    "\n",
    "You work for a major candy producer, and your goal is to write a report that your company can use to guide the design of its next product.  Soon after starting your research, you stumble across this [very interesting dataset](https://fivethirtyeight.com/features/the-ultimate-halloween-candy-power-ranking/) containing results from a fun survey to crowdsource favorite candies.\n",
    "\n",
    "## Setup\n",
    "\n",
    "Run the next cell to import and configure the Python libraries that you need to complete the exercise."
   ]
  },
  {
   "cell_type": "code",
   "execution_count": 1,
   "id": "a0d00746",
   "metadata": {
    "execution": {
     "iopub.execute_input": "2022-07-02T02:20:39.083411Z",
     "iopub.status.busy": "2022-07-02T02:20:39.082343Z",
     "iopub.status.idle": "2022-07-02T02:20:40.253175Z",
     "shell.execute_reply": "2022-07-02T02:20:40.252198Z"
    },
    "papermill": {
     "duration": 1.185481,
     "end_time": "2022-07-02T02:20:40.255950",
     "exception": false,
     "start_time": "2022-07-02T02:20:39.070469",
     "status": "completed"
    },
    "tags": []
   },
   "outputs": [
    {
     "name": "stdout",
     "output_type": "stream",
     "text": [
      "Setup Complete\n"
     ]
    }
   ],
   "source": [
    "import pandas as pd\n",
    "pd.plotting.register_matplotlib_converters()\n",
    "import matplotlib.pyplot as plt\n",
    "%matplotlib inline\n",
    "import seaborn as sns\n",
    "print(\"Setup Complete\")"
   ]
  },
  {
   "cell_type": "markdown",
   "id": "f322d7ad",
   "metadata": {
    "papermill": {
     "duration": 0.011075,
     "end_time": "2022-07-02T02:20:40.278472",
     "exception": false,
     "start_time": "2022-07-02T02:20:40.267397",
     "status": "completed"
    },
    "tags": []
   },
   "source": [
    "The questions below will give you feedback on your work. Run the following cell to set up our feedback system."
   ]
  },
  {
   "cell_type": "code",
   "execution_count": 2,
   "id": "0b972256",
   "metadata": {
    "execution": {
     "iopub.execute_input": "2022-07-02T02:20:40.302442Z",
     "iopub.status.busy": "2022-07-02T02:20:40.301666Z",
     "iopub.status.idle": "2022-07-02T02:20:40.371763Z",
     "shell.execute_reply": "2022-07-02T02:20:40.370112Z"
    },
    "papermill": {
     "duration": 0.085051,
     "end_time": "2022-07-02T02:20:40.374453",
     "exception": false,
     "start_time": "2022-07-02T02:20:40.289402",
     "status": "completed"
    },
    "tags": []
   },
   "outputs": [
    {
     "name": "stdout",
     "output_type": "stream",
     "text": [
      "Setup Complete\n"
     ]
    }
   ],
   "source": [
    "# Set up code checking\n",
    "import os\n",
    "if not os.path.exists(\"../input/candy.csv\"):\n",
    "    os.symlink(\"../input/data-for-datavis/candy.csv\", \"../input/candy.csv\") \n",
    "from learntools.core import binder\n",
    "binder.bind(globals())\n",
    "from learntools.data_viz_to_coder.ex4 import *\n",
    "print(\"Setup Complete\")"
   ]
  },
  {
   "cell_type": "markdown",
   "id": "0a05b449",
   "metadata": {
    "papermill": {
     "duration": 0.010363,
     "end_time": "2022-07-02T02:20:40.395537",
     "exception": false,
     "start_time": "2022-07-02T02:20:40.385174",
     "status": "completed"
    },
    "tags": []
   },
   "source": [
    "## Step 1: Load the Data\n",
    "\n",
    "Read the candy data file into `candy_data`.  Use the `\"id\"` column to label the rows."
   ]
  },
  {
   "cell_type": "code",
   "execution_count": 3,
   "id": "ccab18f9",
   "metadata": {
    "execution": {
     "iopub.execute_input": "2022-07-02T02:20:40.419415Z",
     "iopub.status.busy": "2022-07-02T02:20:40.418588Z",
     "iopub.status.idle": "2022-07-02T02:20:40.437965Z",
     "shell.execute_reply": "2022-07-02T02:20:40.436617Z"
    },
    "papermill": {
     "duration": 0.034487,
     "end_time": "2022-07-02T02:20:40.440629",
     "exception": false,
     "start_time": "2022-07-02T02:20:40.406142",
     "status": "completed"
    },
    "tags": []
   },
   "outputs": [
    {
     "data": {
      "application/javascript": [
       "parent.postMessage({\"jupyterEvent\": \"custom.exercise_interaction\", \"data\": {\"outcomeType\": 1, \"valueTowardsCompletion\": 0.3333333333333333, \"interactionType\": 1, \"questionType\": 1, \"questionId\": \"1_LoadData\", \"learnToolsVersion\": \"0.3.4\", \"failureMessage\": \"\", \"exceptionClass\": \"\", \"trace\": \"\"}}, \"*\")"
      ],
      "text/plain": [
       "<IPython.core.display.Javascript object>"
      ]
     },
     "metadata": {},
     "output_type": "display_data"
    },
    {
     "data": {
      "text/markdown": [
       "<span style=\"color:#33cc33\">Correct</span>"
      ],
      "text/plain": [
       "Correct"
      ]
     },
     "metadata": {},
     "output_type": "display_data"
    }
   ],
   "source": [
    "# Path of the file to read\n",
    "candy_filepath = \"../input/candy.csv\"\n",
    "\n",
    "# Fill in the line below to read the file into a variable candy_data\n",
    "candy_data = pd.read_csv(candy_filepath,index_col=\"id\")\n",
    "\n",
    "# Run the line below with no changes to check that you've loaded the data correctly\n",
    "step_1.check()"
   ]
  },
  {
   "cell_type": "code",
   "execution_count": 4,
   "id": "aab3b161",
   "metadata": {
    "execution": {
     "iopub.execute_input": "2022-07-02T02:20:40.465600Z",
     "iopub.status.busy": "2022-07-02T02:20:40.464703Z",
     "iopub.status.idle": "2022-07-02T02:20:40.470182Z",
     "shell.execute_reply": "2022-07-02T02:20:40.469179Z"
    },
    "papermill": {
     "duration": 0.020826,
     "end_time": "2022-07-02T02:20:40.472713",
     "exception": false,
     "start_time": "2022-07-02T02:20:40.451887",
     "status": "completed"
    },
    "tags": []
   },
   "outputs": [],
   "source": [
    "# Lines below will give you a hint or solution code\n",
    "#step_1.hint()\n",
    "#step_1.solution()"
   ]
  },
  {
   "cell_type": "markdown",
   "id": "1e3fe519",
   "metadata": {
    "papermill": {
     "duration": 0.01067,
     "end_time": "2022-07-02T02:20:40.495146",
     "exception": false,
     "start_time": "2022-07-02T02:20:40.484476",
     "status": "completed"
    },
    "tags": []
   },
   "source": [
    "## Step 2: Review the data\n",
    "\n",
    "Use a Python command to print the first five rows of the data."
   ]
  },
  {
   "cell_type": "code",
   "execution_count": 5,
   "id": "d5ee0d25",
   "metadata": {
    "execution": {
     "iopub.execute_input": "2022-07-02T02:20:40.519669Z",
     "iopub.status.busy": "2022-07-02T02:20:40.518841Z",
     "iopub.status.idle": "2022-07-02T02:20:40.544756Z",
     "shell.execute_reply": "2022-07-02T02:20:40.543190Z"
    },
    "papermill": {
     "duration": 0.040938,
     "end_time": "2022-07-02T02:20:40.547273",
     "exception": false,
     "start_time": "2022-07-02T02:20:40.506335",
     "status": "completed"
    },
    "tags": []
   },
   "outputs": [
    {
     "data": {
      "text/html": [
       "<div>\n",
       "<style scoped>\n",
       "    .dataframe tbody tr th:only-of-type {\n",
       "        vertical-align: middle;\n",
       "    }\n",
       "\n",
       "    .dataframe tbody tr th {\n",
       "        vertical-align: top;\n",
       "    }\n",
       "\n",
       "    .dataframe thead th {\n",
       "        text-align: right;\n",
       "    }\n",
       "</style>\n",
       "<table border=\"1\" class=\"dataframe\">\n",
       "  <thead>\n",
       "    <tr style=\"text-align: right;\">\n",
       "      <th></th>\n",
       "      <th>competitorname</th>\n",
       "      <th>chocolate</th>\n",
       "      <th>fruity</th>\n",
       "      <th>caramel</th>\n",
       "      <th>peanutyalmondy</th>\n",
       "      <th>nougat</th>\n",
       "      <th>crispedricewafer</th>\n",
       "      <th>hard</th>\n",
       "      <th>bar</th>\n",
       "      <th>pluribus</th>\n",
       "      <th>sugarpercent</th>\n",
       "      <th>pricepercent</th>\n",
       "      <th>winpercent</th>\n",
       "    </tr>\n",
       "    <tr>\n",
       "      <th>id</th>\n",
       "      <th></th>\n",
       "      <th></th>\n",
       "      <th></th>\n",
       "      <th></th>\n",
       "      <th></th>\n",
       "      <th></th>\n",
       "      <th></th>\n",
       "      <th></th>\n",
       "      <th></th>\n",
       "      <th></th>\n",
       "      <th></th>\n",
       "      <th></th>\n",
       "      <th></th>\n",
       "    </tr>\n",
       "  </thead>\n",
       "  <tbody>\n",
       "    <tr>\n",
       "      <th>0</th>\n",
       "      <td>100 Grand</td>\n",
       "      <td>Yes</td>\n",
       "      <td>No</td>\n",
       "      <td>Yes</td>\n",
       "      <td>No</td>\n",
       "      <td>No</td>\n",
       "      <td>Yes</td>\n",
       "      <td>No</td>\n",
       "      <td>Yes</td>\n",
       "      <td>No</td>\n",
       "      <td>0.732</td>\n",
       "      <td>0.860</td>\n",
       "      <td>66.971725</td>\n",
       "    </tr>\n",
       "    <tr>\n",
       "      <th>1</th>\n",
       "      <td>3 Musketeers</td>\n",
       "      <td>Yes</td>\n",
       "      <td>No</td>\n",
       "      <td>No</td>\n",
       "      <td>No</td>\n",
       "      <td>Yes</td>\n",
       "      <td>No</td>\n",
       "      <td>No</td>\n",
       "      <td>Yes</td>\n",
       "      <td>No</td>\n",
       "      <td>0.604</td>\n",
       "      <td>0.511</td>\n",
       "      <td>67.602936</td>\n",
       "    </tr>\n",
       "    <tr>\n",
       "      <th>2</th>\n",
       "      <td>Air Heads</td>\n",
       "      <td>No</td>\n",
       "      <td>Yes</td>\n",
       "      <td>No</td>\n",
       "      <td>No</td>\n",
       "      <td>No</td>\n",
       "      <td>No</td>\n",
       "      <td>No</td>\n",
       "      <td>No</td>\n",
       "      <td>No</td>\n",
       "      <td>0.906</td>\n",
       "      <td>0.511</td>\n",
       "      <td>52.341465</td>\n",
       "    </tr>\n",
       "    <tr>\n",
       "      <th>3</th>\n",
       "      <td>Almond Joy</td>\n",
       "      <td>Yes</td>\n",
       "      <td>No</td>\n",
       "      <td>No</td>\n",
       "      <td>Yes</td>\n",
       "      <td>No</td>\n",
       "      <td>No</td>\n",
       "      <td>No</td>\n",
       "      <td>Yes</td>\n",
       "      <td>No</td>\n",
       "      <td>0.465</td>\n",
       "      <td>0.767</td>\n",
       "      <td>50.347546</td>\n",
       "    </tr>\n",
       "    <tr>\n",
       "      <th>4</th>\n",
       "      <td>Baby Ruth</td>\n",
       "      <td>Yes</td>\n",
       "      <td>No</td>\n",
       "      <td>Yes</td>\n",
       "      <td>Yes</td>\n",
       "      <td>Yes</td>\n",
       "      <td>No</td>\n",
       "      <td>No</td>\n",
       "      <td>Yes</td>\n",
       "      <td>No</td>\n",
       "      <td>0.604</td>\n",
       "      <td>0.767</td>\n",
       "      <td>56.914547</td>\n",
       "    </tr>\n",
       "  </tbody>\n",
       "</table>\n",
       "</div>"
      ],
      "text/plain": [
       "   competitorname chocolate fruity caramel peanutyalmondy nougat  \\\n",
       "id                                                                 \n",
       "0       100 Grand       Yes     No     Yes             No     No   \n",
       "1    3 Musketeers       Yes     No      No             No    Yes   \n",
       "2       Air Heads        No    Yes      No             No     No   \n",
       "3      Almond Joy       Yes     No      No            Yes     No   \n",
       "4       Baby Ruth       Yes     No     Yes            Yes    Yes   \n",
       "\n",
       "   crispedricewafer hard  bar pluribus  sugarpercent  pricepercent  winpercent  \n",
       "id                                                                              \n",
       "0               Yes   No  Yes       No         0.732         0.860   66.971725  \n",
       "1                No   No  Yes       No         0.604         0.511   67.602936  \n",
       "2                No   No   No       No         0.906         0.511   52.341465  \n",
       "3                No   No  Yes       No         0.465         0.767   50.347546  \n",
       "4                No   No  Yes       No         0.604         0.767   56.914547  "
      ]
     },
     "execution_count": 5,
     "metadata": {},
     "output_type": "execute_result"
    }
   ],
   "source": [
    "# Print the first five rows of the data\n",
    "____ # Your code here\n",
    "candy_data.head()"
   ]
  },
  {
   "cell_type": "markdown",
   "id": "2ad16045",
   "metadata": {
    "papermill": {
     "duration": 0.011228,
     "end_time": "2022-07-02T02:20:40.570162",
     "exception": false,
     "start_time": "2022-07-02T02:20:40.558934",
     "status": "completed"
    },
    "tags": []
   },
   "source": [
    "The dataset contains 83 rows, where each corresponds to a different candy bar.  There are 13 columns:\n",
    "- `'competitorname'` contains the name of the candy bar. \n",
    "- the next **9** columns (from `'chocolate'` to `'pluribus'`) describe the candy.  For instance, rows with chocolate candies have `\"Yes\"` in the `'chocolate'` column (and candies without chocolate have `\"No\"` in the same column).\n",
    "- `'sugarpercent'` provides some indication of the amount of sugar, where higher values signify higher sugar content.\n",
    "- `'pricepercent'` shows the price per unit, relative to the other candies in the dataset.\n",
    "- `'winpercent'` is calculated from the survey results; higher values indicate that the candy was more popular with survey respondents.\n",
    "\n",
    "Use the first five rows of the data to answer the questions below."
   ]
  },
  {
   "cell_type": "code",
   "execution_count": 6,
   "id": "fda8aa23",
   "metadata": {
    "execution": {
     "iopub.execute_input": "2022-07-02T02:20:40.595123Z",
     "iopub.status.busy": "2022-07-02T02:20:40.594337Z",
     "iopub.status.idle": "2022-07-02T02:20:40.604207Z",
     "shell.execute_reply": "2022-07-02T02:20:40.602920Z"
    },
    "papermill": {
     "duration": 0.025158,
     "end_time": "2022-07-02T02:20:40.606672",
     "exception": false,
     "start_time": "2022-07-02T02:20:40.581514",
     "status": "completed"
    },
    "tags": []
   },
   "outputs": [
    {
     "data": {
      "application/javascript": [
       "parent.postMessage({\"jupyterEvent\": \"custom.exercise_interaction\", \"data\": {\"outcomeType\": 1, \"valueTowardsCompletion\": 0.3333333333333333, \"interactionType\": 1, \"questionType\": 1, \"questionId\": \"2_ReviewData\", \"learnToolsVersion\": \"0.3.4\", \"failureMessage\": \"\", \"exceptionClass\": \"\", \"trace\": \"\"}}, \"*\")"
      ],
      "text/plain": [
       "<IPython.core.display.Javascript object>"
      ]
     },
     "metadata": {},
     "output_type": "display_data"
    },
    {
     "data": {
      "text/markdown": [
       "<span style=\"color:#33cc33\">Correct</span>"
      ],
      "text/plain": [
       "Correct"
      ]
     },
     "metadata": {},
     "output_type": "display_data"
    }
   ],
   "source": [
    "# Fill in the line below: Which candy was more popular with survey respondents:\n",
    "# '3 Musketeers' or 'Almond Joy'?  (Please enclose your answer in single quotes.)\n",
    "more_popular = '3 Musketeers'\n",
    "\n",
    "# Fill in the line below: Which candy has higher sugar content: 'Air Heads'\n",
    "# or 'Baby Ruth'? (Please enclose your answer in single quotes.)\n",
    "more_sugar = 'Air Heads'\n",
    "\n",
    "# Check your answers\n",
    "step_2.check()"
   ]
  },
  {
   "cell_type": "code",
   "execution_count": 7,
   "id": "c30f3f35",
   "metadata": {
    "execution": {
     "iopub.execute_input": "2022-07-02T02:20:40.631456Z",
     "iopub.status.busy": "2022-07-02T02:20:40.631035Z",
     "iopub.status.idle": "2022-07-02T02:20:40.635801Z",
     "shell.execute_reply": "2022-07-02T02:20:40.634621Z"
    },
    "papermill": {
     "duration": 0.020015,
     "end_time": "2022-07-02T02:20:40.638193",
     "exception": false,
     "start_time": "2022-07-02T02:20:40.618178",
     "status": "completed"
    },
    "tags": []
   },
   "outputs": [],
   "source": [
    "# Lines below will give you a hint or solution code\n",
    "#step_2.hint()\n",
    "#step_2.solution()"
   ]
  },
  {
   "cell_type": "markdown",
   "id": "7265a9c1",
   "metadata": {
    "papermill": {
     "duration": 0.01094,
     "end_time": "2022-07-02T02:20:40.660587",
     "exception": false,
     "start_time": "2022-07-02T02:20:40.649647",
     "status": "completed"
    },
    "tags": []
   },
   "source": [
    "## Step 3: The role of sugar\n",
    "\n",
    "Do people tend to prefer candies with higher sugar content?  \n",
    "\n",
    "#### Part A\n",
    "\n",
    "Create a scatter plot that shows the relationship between `'sugarpercent'` (on the horizontal x-axis) and `'winpercent'` (on the vertical y-axis).  _Don't add a regression line just yet -- you'll do that in the next step!_"
   ]
  },
  {
   "cell_type": "code",
   "execution_count": 8,
   "id": "9acd9541",
   "metadata": {
    "execution": {
     "iopub.execute_input": "2022-07-02T02:20:40.685579Z",
     "iopub.status.busy": "2022-07-02T02:20:40.684783Z",
     "iopub.status.idle": "2022-07-02T02:20:40.969460Z",
     "shell.execute_reply": "2022-07-02T02:20:40.968244Z"
    },
    "papermill": {
     "duration": 0.300127,
     "end_time": "2022-07-02T02:20:40.972120",
     "exception": false,
     "start_time": "2022-07-02T02:20:40.671993",
     "status": "completed"
    },
    "tags": []
   },
   "outputs": [
    {
     "data": {
      "application/javascript": [
       "parent.postMessage({\"jupyterEvent\": \"custom.exercise_interaction\", \"data\": {\"outcomeType\": 1, \"valueTowardsCompletion\": 0.3333333333333333, \"interactionType\": 1, \"questionType\": 2, \"questionId\": \"3.1_PlotBlueScatter\", \"learnToolsVersion\": \"0.3.4\", \"failureMessage\": \"\", \"exceptionClass\": \"\", \"trace\": \"\"}}, \"*\")"
      ],
      "text/plain": [
       "<IPython.core.display.Javascript object>"
      ]
     },
     "metadata": {},
     "output_type": "display_data"
    },
    {
     "data": {
      "text/markdown": [
       "<span style=\"color:#33cc33\">Correct</span>"
      ],
      "text/plain": [
       "Correct"
      ]
     },
     "metadata": {},
     "output_type": "display_data"
    },
    {
     "data": {
      "image/png": "[encoded data removed]",
      "text/plain": [
       "<Figure size 432x288 with 1 Axes>"
      ]
     },
     "metadata": {
      "needs_background": "light"
     },
     "output_type": "display_data"
    }
   ],
   "source": [
    "# Scatter plot showing the relationship between 'sugarpercent' and 'winpercent'\n",
    "____ # Your code here\n",
    "\n",
    "# Check your answer\n",
    "sns.scatterplot(x=candy_data['sugarpercent'], y=candy_data['winpercent'])\n",
    "\n",
    "step_3.a.check()"
   ]
  },
  {
   "cell_type": "code",
   "execution_count": 9,
   "id": "e714efb8",
   "metadata": {
    "execution": {
     "iopub.execute_input": "2022-07-02T02:20:40.998610Z",
     "iopub.status.busy": "2022-07-02T02:20:40.997992Z",
     "iopub.status.idle": "2022-07-02T02:20:41.002403Z",
     "shell.execute_reply": "2022-07-02T02:20:41.001156Z"
    },
    "papermill": {
     "duration": 0.020533,
     "end_time": "2022-07-02T02:20:41.004946",
     "exception": false,
     "start_time": "2022-07-02T02:20:40.984413",
     "status": "completed"
    },
    "tags": []
   },
   "outputs": [],
   "source": [
    "# Lines below will give you a hint or solution code\n",
    "#step_3.a.hint()\n",
    "#step_3.a.solution_plot()"
   ]
  },
  {
   "cell_type": "markdown",
   "id": "9f4d379f",
   "metadata": {
    "papermill": {
     "duration": 0.011651,
     "end_time": "2022-07-02T02:20:41.028743",
     "exception": false,
     "start_time": "2022-07-02T02:20:41.017092",
     "status": "completed"
    },
    "tags": []
   },
   "source": [
    "#### Part B\n",
    "\n",
    "Does the scatter plot show a **strong** correlation between the two variables?  If so, are candies with more sugar relatively more or less popular with the survey respondents?"
   ]
  },
  {
   "cell_type": "code",
   "execution_count": 10,
   "id": "af5bfa12",
   "metadata": {
    "execution": {
     "iopub.execute_input": "2022-07-02T02:20:41.054076Z",
     "iopub.status.busy": "2022-07-02T02:20:41.053661Z",
     "iopub.status.idle": "2022-07-02T02:20:41.058812Z",
     "shell.execute_reply": "2022-07-02T02:20:41.057576Z"
    },
    "papermill": {
     "duration": 0.020733,
     "end_time": "2022-07-02T02:20:41.061194",
     "exception": false,
     "start_time": "2022-07-02T02:20:41.040461",
     "status": "completed"
    },
    "tags": []
   },
   "outputs": [],
   "source": [
    "#step_3.b.hint()"
   ]
  },
  {
   "cell_type": "code",
   "execution_count": 11,
   "id": "a8690117",
   "metadata": {
    "execution": {
     "iopub.execute_input": "2022-07-02T02:20:41.086847Z",
     "iopub.status.busy": "2022-07-02T02:20:41.086020Z",
     "iopub.status.idle": "2022-07-02T02:20:41.095387Z",
     "shell.execute_reply": "2022-07-02T02:20:41.094113Z"
    },
    "papermill": {
     "duration": 0.024911,
     "end_time": "2022-07-02T02:20:41.097854",
     "exception": false,
     "start_time": "2022-07-02T02:20:41.072943",
     "status": "completed"
    },
    "tags": []
   },
   "outputs": [
    {
     "data": {
      "application/javascript": [
       "parent.postMessage({\"jupyterEvent\": \"custom.exercise_interaction\", \"data\": {\"interactionType\": 3, \"questionType\": 4, \"questionId\": \"3.2_ThinkBlueScatter\", \"learnToolsVersion\": \"0.3.4\", \"valueTowardsCompletion\": 0.0, \"failureMessage\": \"\", \"exceptionClass\": \"\", \"trace\": \"\", \"outcomeType\": 4}}, \"*\")"
      ],
      "text/plain": [
       "<IPython.core.display.Javascript object>"
      ]
     },
     "metadata": {},
     "output_type": "display_data"
    },
    {
     "data": {
      "text/markdown": [
       "<span style=\"color:#33cc99\">Solution:</span> The scatter plot does not show a strong correlation between the two variables. Since there is no clear relationship between the two variables, this tells us that sugar content does not play a strong role in candy popularity."
      ],
      "text/plain": [
       "Solution: The scatter plot does not show a strong correlation between the two variables. Since there is no clear relationship between the two variables, this tells us that sugar content does not play a strong role in candy popularity."
      ]
     },
     "metadata": {},
     "output_type": "display_data"
    }
   ],
   "source": [
    "# Check your answer (Run this code cell to receive credit!)\n",
    "step_3.b.solution()"
   ]
  },
  {
   "cell_type": "markdown",
   "id": "f0ec6450",
   "metadata": {
    "papermill": {
     "duration": 0.011418,
     "end_time": "2022-07-02T02:20:41.121742",
     "exception": false,
     "start_time": "2022-07-02T02:20:41.110324",
     "status": "completed"
    },
    "tags": []
   },
   "source": [
    "## Step 4: Take a closer look\n",
    "\n",
    "#### Part A\n",
    "\n",
    "Create the same scatter plot you created in **Step 3**, but now with a regression line!"
   ]
  },
  {
   "cell_type": "code",
   "execution_count": 12,
   "id": "a4a85206",
   "metadata": {
    "execution": {
     "iopub.execute_input": "2022-07-02T02:20:41.147278Z",
     "iopub.status.busy": "2022-07-02T02:20:41.146874Z",
     "iopub.status.idle": "2022-07-02T02:20:41.519217Z",
     "shell.execute_reply": "2022-07-02T02:20:41.518095Z"
    },
    "papermill": {
     "duration": 0.387992,
     "end_time": "2022-07-02T02:20:41.521750",
     "exception": false,
     "start_time": "2022-07-02T02:20:41.133758",
     "status": "completed"
    },
    "tags": []
   },
   "outputs": [
    {
     "data": {
      "application/javascript": [
       "parent.postMessage({\"jupyterEvent\": \"custom.exercise_interaction\", \"data\": {\"outcomeType\": 1, \"valueTowardsCompletion\": 0.3333333333333333, \"interactionType\": 1, \"questionType\": 2, \"questionId\": \"4.1_PlotBlueReg\", \"learnToolsVersion\": \"0.3.4\", \"failureMessage\": \"\", \"exceptionClass\": \"\", \"trace\": \"\"}}, \"*\")"
      ],
      "text/plain": [
       "<IPython.core.display.Javascript object>"
      ]
     },
     "metadata": {},
     "output_type": "display_data"
    },
    {
     "data": {
      "text/markdown": [
       "<span style=\"color:#33cc33\">Correct</span>"
      ],
      "text/plain": [
       "Correct"
      ]
     },
     "metadata": {},
     "output_type": "display_data"
    },
    {
     "data": {
      "image/png": "[encoded data removed]",
      "text/plain": [
       "<Figure size 432x288 with 1 Axes>"
      ]
     },
     "metadata": {
      "needs_background": "light"
     },
     "output_type": "display_data"
    }
   ],
   "source": [
    "# Scatter plot w/ regression line showing the relationship between 'sugarpercent' and 'winpercent'\n",
    "____ # Your code here\n",
    "\n",
    "# Check your answer\n",
    "sns.regplot(x=candy_data['sugarpercent'], y=candy_data['winpercent'])\n",
    "\n",
    "step_4.a.check()"
   ]
  },
  {
   "cell_type": "code",
   "execution_count": 13,
   "id": "ebd16c49",
   "metadata": {
    "execution": {
     "iopub.execute_input": "2022-07-02T02:20:41.548989Z",
     "iopub.status.busy": "2022-07-02T02:20:41.548101Z",
     "iopub.status.idle": "2022-07-02T02:20:41.552355Z",
     "shell.execute_reply": "2022-07-02T02:20:41.551482Z"
    },
    "papermill": {
     "duration": 0.02,
     "end_time": "2022-07-02T02:20:41.554552",
     "exception": false,
     "start_time": "2022-07-02T02:20:41.534552",
     "status": "completed"
    },
    "tags": []
   },
   "outputs": [],
   "source": [
    "# Lines below will give you a hint or solution code\n",
    "#step_4.a.hint()\n",
    "#step_4.a.solution_plot()"
   ]
  },
  {
   "cell_type": "markdown",
   "id": "1fe427ea",
   "metadata": {
    "papermill": {
     "duration": 0.012199,
     "end_time": "2022-07-02T02:20:41.579427",
     "exception": false,
     "start_time": "2022-07-02T02:20:41.567228",
     "status": "completed"
    },
    "tags": []
   },
   "source": [
    "#### Part B\n",
    "\n",
    "According to the plot above, is there a **slight** correlation between `'winpercent'` and `'sugarpercent'`?  What does this tell you about the candy that people tend to prefer?"
   ]
  },
  {
   "cell_type": "code",
   "execution_count": 14,
   "id": "f9126c52",
   "metadata": {
    "execution": {
     "iopub.execute_input": "2022-07-02T02:20:41.606843Z",
     "iopub.status.busy": "2022-07-02T02:20:41.605930Z",
     "iopub.status.idle": "2022-07-02T02:20:41.611059Z",
     "shell.execute_reply": "2022-07-02T02:20:41.609794Z"
    },
    "papermill": {
     "duration": 0.021637,
     "end_time": "2022-07-02T02:20:41.613637",
     "exception": false,
     "start_time": "2022-07-02T02:20:41.592000",
     "status": "completed"
    },
    "tags": []
   },
   "outputs": [],
   "source": [
    "#step_4.b.hint()"
   ]
  },
  {
   "cell_type": "code",
   "execution_count": 15,
   "id": "667a5509",
   "metadata": {
    "execution": {
     "iopub.execute_input": "2022-07-02T02:20:41.640082Z",
     "iopub.status.busy": "2022-07-02T02:20:41.639680Z",
     "iopub.status.idle": "2022-07-02T02:20:41.649575Z",
     "shell.execute_reply": "2022-07-02T02:20:41.648367Z"
    },
    "papermill": {
     "duration": 0.025737,
     "end_time": "2022-07-02T02:20:41.651844",
     "exception": false,
     "start_time": "2022-07-02T02:20:41.626107",
     "status": "completed"
    },
    "tags": []
   },
   "outputs": [
    {
     "data": {
      "application/javascript": [
       "parent.postMessage({\"jupyterEvent\": \"custom.exercise_interaction\", \"data\": {\"interactionType\": 3, \"questionType\": 4, \"questionId\": \"4.2_ThinkBlueReg\", \"learnToolsVersion\": \"0.3.4\", \"valueTowardsCompletion\": 0.0, \"failureMessage\": \"\", \"exceptionClass\": \"\", \"trace\": \"\", \"outcomeType\": 4}}, \"*\")"
      ],
      "text/plain": [
       "<IPython.core.display.Javascript object>"
      ]
     },
     "metadata": {},
     "output_type": "display_data"
    },
    {
     "data": {
      "text/markdown": [
       "<span style=\"color:#33cc99\">Solution:</span> Since the regression line has a slightly positive slope, this tells us that there is a slightly positive correlation between `'winpercent'` and `'sugarpercent'`. Thus, people have a slight preference for candies containing relatively more sugar."
      ],
      "text/plain": [
       "Solution: Since the regression line has a slightly positive slope, this tells us that there is a slightly positive correlation between `'winpercent'` and `'sugarpercent'`. Thus, people have a slight preference for candies containing relatively more sugar."
      ]
     },
     "metadata": {},
     "output_type": "display_data"
    }
   ],
   "source": [
    "# Check your answer (Run this code cell to receive credit!)\n",
    "step_4.b.solution()"
   ]
  },
  {
   "cell_type": "markdown",
   "id": "ae62cdc4",
   "metadata": {
    "papermill": {
     "duration": 0.012306,
     "end_time": "2022-07-02T02:20:41.676991",
     "exception": false,
     "start_time": "2022-07-02T02:20:41.664685",
     "status": "completed"
    },
    "tags": []
   },
   "source": [
    "## Step 5: Chocolate!\n",
    "\n",
    "In the code cell below, create a scatter plot to show the relationship between `'pricepercent'` (on the horizontal x-axis) and `'winpercent'` (on the vertical y-axis). Use the `'chocolate'` column to color-code the points.  _Don't add any regression lines just yet -- you'll do that in the next step!_"
   ]
  },
  {
   "cell_type": "code",
   "execution_count": 16,
   "id": "1f9233a6",
   "metadata": {
    "execution": {
     "iopub.execute_input": "2022-07-02T02:20:41.704256Z",
     "iopub.status.busy": "2022-07-02T02:20:41.703875Z",
     "iopub.status.idle": "2022-07-02T02:20:42.005050Z",
     "shell.execute_reply": "2022-07-02T02:20:42.003760Z"
    },
    "papermill": {
     "duration": 0.317798,
     "end_time": "2022-07-02T02:20:42.007537",
     "exception": false,
     "start_time": "2022-07-02T02:20:41.689739",
     "status": "completed"
    },
    "tags": []
   },
   "outputs": [
    {
     "data": {
      "application/javascript": [
       "parent.postMessage({\"jupyterEvent\": \"custom.exercise_interaction\", \"data\": {\"outcomeType\": 1, \"valueTowardsCompletion\": 0.3333333333333333, \"interactionType\": 1, \"questionType\": 2, \"questionId\": \"5_ColorScatter\", \"learnToolsVersion\": \"0.3.4\", \"failureMessage\": \"\", \"exceptionClass\": \"\", \"trace\": \"\"}}, \"*\")"
      ],
      "text/plain": [
       "<IPython.core.display.Javascript object>"
      ]
     },
     "metadata": {},
     "output_type": "display_data"
    },
    {
     "data": {
      "text/markdown": [
       "<span style=\"color:#33cc33\">Correct</span>"
      ],
      "text/plain": [
       "Correct"
      ]
     },
     "metadata": {},
     "output_type": "display_data"
    },
    {
     "data": {
      "image/png": "[encoded data removed]",
      "text/plain": [
       "<Figure size 432x288 with 1 Axes>"
      ]
     },
     "metadata": {
      "needs_background": "light"
     },
     "output_type": "display_data"
    }
   ],
   "source": [
    "# Scatter plot showing the relationship between 'pricepercent', 'winpercent', and 'chocolate'\n",
    "____ # Your code here\n",
    "\n",
    "# Check your answer\n",
    "sns.scatterplot(x=candy_data['pricepercent'], y=candy_data['winpercent'], hue=candy_data['chocolate'])\n",
    "\n",
    "step_5.check()"
   ]
  },
  {
   "cell_type": "code",
   "execution_count": 17,
   "id": "6bec31dc",
   "metadata": {
    "execution": {
     "iopub.execute_input": "2022-07-02T02:20:42.038161Z",
     "iopub.status.busy": "2022-07-02T02:20:42.036796Z",
     "iopub.status.idle": "2022-07-02T02:20:42.041985Z",
     "shell.execute_reply": "2022-07-02T02:20:42.040965Z"
    },
    "papermill": {
     "duration": 0.023085,
     "end_time": "2022-07-02T02:20:42.044536",
     "exception": false,
     "start_time": "2022-07-02T02:20:42.021451",
     "status": "completed"
    },
    "tags": []
   },
   "outputs": [],
   "source": [
    "# Lines below will give you a hint or solution code\n",
    "#step_5.hint()\n",
    "#step_5.solution_plot()"
   ]
  },
  {
   "cell_type": "markdown",
   "id": "a6ab3af1",
   "metadata": {
    "papermill": {
     "duration": 0.013536,
     "end_time": "2022-07-02T02:20:42.071990",
     "exception": false,
     "start_time": "2022-07-02T02:20:42.058454",
     "status": "completed"
    },
    "tags": []
   },
   "source": [
    "Can you see any interesting patterns in the scatter plot?  We'll investigate this plot further  by adding regression lines in the next step!\n",
    "\n",
    "## Step 6: Investigate chocolate\n",
    "\n",
    "#### Part A\n",
    "\n",
    "Create the same scatter plot you created in **Step 5**, but now with two regression lines, corresponding to (1) chocolate candies and (2) candies without chocolate."
   ]
  },
  {
   "cell_type": "code",
   "execution_count": 18,
   "id": "0deb992d",
   "metadata": {
    "execution": {
     "iopub.execute_input": "2022-07-02T02:20:42.102594Z",
     "iopub.status.busy": "2022-07-02T02:20:42.101698Z",
     "iopub.status.idle": "2022-07-02T02:20:42.876042Z",
     "shell.execute_reply": "2022-07-02T02:20:42.874824Z"
    },
    "papermill": {
     "duration": 0.792713,
     "end_time": "2022-07-02T02:20:42.878695",
     "exception": false,
     "start_time": "2022-07-02T02:20:42.085982",
     "status": "completed"
    },
    "tags": []
   },
   "outputs": [
    {
     "data": {
      "application/javascript": [
       "parent.postMessage({\"jupyterEvent\": \"custom.exercise_interaction\", \"data\": {\"outcomeType\": 1, \"valueTowardsCompletion\": 0.3333333333333333, \"interactionType\": 1, \"questionType\": 2, \"questionId\": \"6.1_PlotColorReg\", \"learnToolsVersion\": \"0.3.4\", \"failureMessage\": \"\", \"exceptionClass\": \"\", \"trace\": \"\"}}, \"*\")"
      ],
      "text/plain": [
       "<IPython.core.display.Javascript object>"
      ]
     },
     "metadata": {},
     "output_type": "display_data"
    },
    {
     "data": {
      "text/markdown": [
       "<span style=\"color:#33cc33\">Correct</span>"
      ],
      "text/plain": [
       "Correct"
      ]
     },
     "metadata": {},
     "output_type": "display_data"
    },
    {
     "data": {
      "image/png": "[encoded data removed]",
      "text/plain": [
       "<Figure size 416.375x360 with 1 Axes>"
      ]
     },
     "metadata": {
      "needs_background": "light"
     },
     "output_type": "display_data"
    }
   ],
   "source": [
    "# Color-coded scatter plot w/ regression lines\n",
    "____ # Your code here\n",
    "\n",
    "# Check your answer\n",
    "sns.lmplot(x=\"pricepercent\", y=\"winpercent\", hue=\"chocolate\",data=candy_data)\n",
    "\n",
    "step_6.a.check()"
   ]
  },
  {
   "cell_type": "code",
   "execution_count": 19,
   "id": "c4a235a7",
   "metadata": {
    "execution": {
     "iopub.execute_input": "2022-07-02T02:20:42.909029Z",
     "iopub.status.busy": "2022-07-02T02:20:42.908630Z",
     "iopub.status.idle": "2022-07-02T02:20:42.913552Z",
     "shell.execute_reply": "2022-07-02T02:20:42.912355Z"
    },
    "papermill": {
     "duration": 0.022694,
     "end_time": "2022-07-02T02:20:42.915794",
     "exception": false,
     "start_time": "2022-07-02T02:20:42.893100",
     "status": "completed"
    },
    "tags": []
   },
   "outputs": [],
   "source": [
    "# Lines below will give you a hint or solution code\n",
    "#step_6.a.hint()\n",
    "#step_6.a.solution_plot()"
   ]
  },
  {
   "cell_type": "markdown",
   "id": "1dd99259",
   "metadata": {
    "papermill": {
     "duration": 0.014046,
     "end_time": "2022-07-02T02:20:42.944190",
     "exception": false,
     "start_time": "2022-07-02T02:20:42.930144",
     "status": "completed"
    },
    "tags": []
   },
   "source": [
    "#### Part B\n",
    "\n",
    "Using the regression lines, what conclusions can you draw about the effects of chocolate and price on candy popularity?"
   ]
  },
  {
   "cell_type": "code",
   "execution_count": 20,
   "id": "b2fba127",
   "metadata": {
    "execution": {
     "iopub.execute_input": "2022-07-02T02:20:42.974738Z",
     "iopub.status.busy": "2022-07-02T02:20:42.974315Z",
     "iopub.status.idle": "2022-07-02T02:20:42.979204Z",
     "shell.execute_reply": "2022-07-02T02:20:42.978297Z"
    },
    "papermill": {
     "duration": 0.022895,
     "end_time": "2022-07-02T02:20:42.981502",
     "exception": false,
     "start_time": "2022-07-02T02:20:42.958607",
     "status": "completed"
    },
    "tags": []
   },
   "outputs": [],
   "source": [
    "#step_6.b.hint()"
   ]
  },
  {
   "cell_type": "code",
   "execution_count": 21,
   "id": "d7b3f19f",
   "metadata": {
    "execution": {
     "iopub.execute_input": "2022-07-02T02:20:43.013028Z",
     "iopub.status.busy": "2022-07-02T02:20:43.012626Z",
     "iopub.status.idle": "2022-07-02T02:20:43.022801Z",
     "shell.execute_reply": "2022-07-02T02:20:43.021578Z"
    },
    "papermill": {
     "duration": 0.028751,
     "end_time": "2022-07-02T02:20:43.025187",
     "exception": false,
     "start_time": "2022-07-02T02:20:42.996436",
     "status": "completed"
    },
    "tags": []
   },
   "outputs": [
    {
     "data": {
      "application/javascript": [
       "parent.postMessage({\"jupyterEvent\": \"custom.exercise_interaction\", \"data\": {\"interactionType\": 3, \"questionType\": 4, \"questionId\": \"6.2_ThinkColorReg\", \"learnToolsVersion\": \"0.3.4\", \"valueTowardsCompletion\": 0.0, \"failureMessage\": \"\", \"exceptionClass\": \"\", \"trace\": \"\", \"outcomeType\": 4}}, \"*\")"
      ],
      "text/plain": [
       "<IPython.core.display.Javascript object>"
      ]
     },
     "metadata": {},
     "output_type": "display_data"
    },
    {
     "data": {
      "text/markdown": [
       "<span style=\"color:#33cc99\">Solution:</span> We'll begin with the regression line for chocolate candies. Since this line has a slightly positive slope, we can say that more expensive chocolate candies tend to be more popular (than relatively cheaper chocolate candies).  Likewise, since the regression line for candies without chocolate has a negative slope, we can say that if candies don't contain chocolate, they tend to be more popular when they are cheaper.  One important note, however, is that the dataset is quite small -- so we shouldn't invest too much trust in these patterns!  To inspire more confidence in the results, we should add more candies to the dataset."
      ],
      "text/plain": [
       "Solution: We'll begin with the regression line for chocolate candies. Since this line has a slightly positive slope, we can say that more expensive chocolate candies tend to be more popular (than relatively cheaper chocolate candies).  Likewise, since the regression line for candies without chocolate has a negative slope, we can say that if candies don't contain chocolate, they tend to be more popular when they are cheaper.  One important note, however, is that the dataset is quite small -- so we shouldn't invest too much trust in these patterns!  To inspire more confidence in the results, we should add more candies to the dataset."
      ]
     },
     "metadata": {},
     "output_type": "display_data"
    }
   ],
   "source": [
    "# Check your answer (Run this code cell to receive credit!)\n",
    "step_6.b.solution()"
   ]
  },
  {
   "cell_type": "markdown",
   "id": "070be641",
   "metadata": {
    "papermill": {
     "duration": 0.014576,
     "end_time": "2022-07-02T02:20:43.054732",
     "exception": false,
     "start_time": "2022-07-02T02:20:43.040156",
     "status": "completed"
    },
    "tags": []
   },
   "source": [
    "## Step 7: Everybody loves chocolate.\n",
    "\n",
    "#### Part A\n",
    "\n",
    "Create a categorical scatter plot to highlight the relationship between `'chocolate'` and `'winpercent'`.  Put `'chocolate'` on the (horizontal) x-axis, and `'winpercent'` on the (vertical) y-axis."
   ]
  },
  {
   "cell_type": "code",
   "execution_count": 22,
   "id": "b5d4b565",
   "metadata": {
    "execution": {
     "iopub.execute_input": "2022-07-02T02:20:43.085742Z",
     "iopub.status.busy": "2022-07-02T02:20:43.085356Z",
     "iopub.status.idle": "2022-07-02T02:20:43.303705Z",
     "shell.execute_reply": "2022-07-02T02:20:43.302533Z"
    },
    "papermill": {
     "duration": 0.237376,
     "end_time": "2022-07-02T02:20:43.306564",
     "exception": false,
     "start_time": "2022-07-02T02:20:43.069188",
     "status": "completed"
    },
    "tags": []
   },
   "outputs": [
    {
     "data": {
      "application/javascript": [
       "parent.postMessage({\"jupyterEvent\": \"custom.exercise_interaction\", \"data\": {\"outcomeType\": 1, \"valueTowardsCompletion\": 0.3333333333333333, \"interactionType\": 1, \"questionType\": 2, \"questionId\": \"7.1_PlotSwarm\", \"learnToolsVersion\": \"0.3.4\", \"failureMessage\": \"\", \"exceptionClass\": \"\", \"trace\": \"\"}}, \"*\")"
      ],
      "text/plain": [
       "<IPython.core.display.Javascript object>"
      ]
     },
     "metadata": {},
     "output_type": "display_data"
    },
    {
     "data": {
      "text/markdown": [
       "<span style=\"color:#33cc33\">Correct</span>"
      ],
      "text/plain": [
       "Correct"
      ]
     },
     "metadata": {},
     "output_type": "display_data"
    },
    {
     "data": {
      "image/png": "[encoded data removed]",
      "text/plain": [
       "<Figure size 432x288 with 1 Axes>"
      ]
     },
     "metadata": {
      "needs_background": "light"
     },
     "output_type": "display_data"
    }
   ],
   "source": [
    "# Scatter plot showing the relationship between 'chocolate' and 'winpercent'\n",
    "____ # Your code here\n",
    "\n",
    "# Check your answer\n",
    "sns.swarmplot(x=candy_data['chocolate'], y=candy_data['winpercent'])\n",
    "\n",
    "step_7.a.check()"
   ]
  },
  {
   "cell_type": "code",
   "execution_count": 23,
   "id": "fc9a33bc",
   "metadata": {
    "execution": {
     "iopub.execute_input": "2022-07-02T02:20:43.340105Z",
     "iopub.status.busy": "2022-07-02T02:20:43.339361Z",
     "iopub.status.idle": "2022-07-02T02:20:43.344538Z",
     "shell.execute_reply": "2022-07-02T02:20:43.343518Z"
    },
    "papermill": {
     "duration": 0.024984,
     "end_time": "2022-07-02T02:20:43.347137",
     "exception": false,
     "start_time": "2022-07-02T02:20:43.322153",
     "status": "completed"
    },
    "tags": []
   },
   "outputs": [],
   "source": [
    "# Lines below will give you a hint or solution code\n",
    "#step_7.a.hint()\n",
    "#step_7.a.solution_plot()"
   ]
  },
  {
   "cell_type": "markdown",
   "id": "910f0594",
   "metadata": {
    "papermill": {
     "duration": 0.015124,
     "end_time": "2022-07-02T02:20:43.377802",
     "exception": false,
     "start_time": "2022-07-02T02:20:43.362678",
     "status": "completed"
    },
    "tags": []
   },
   "source": [
    "#### Part B\n",
    "\n",
    "You decide to dedicate a section of your report to the fact that chocolate candies tend to be more popular than candies without chocolate.  Which plot is more appropriate to tell this story: the plot from **Step 6**, or the plot from **Step 7**?"
   ]
  },
  {
   "cell_type": "code",
   "execution_count": 24,
   "id": "0d417b96",
   "metadata": {
    "execution": {
     "iopub.execute_input": "2022-07-02T02:20:43.411714Z",
     "iopub.status.busy": "2022-07-02T02:20:43.409673Z",
     "iopub.status.idle": "2022-07-02T02:20:43.415715Z",
     "shell.execute_reply": "2022-07-02T02:20:43.414772Z"
    },
    "papermill": {
     "duration": 0.025013,
     "end_time": "2022-07-02T02:20:43.418173",
     "exception": false,
     "start_time": "2022-07-02T02:20:43.393160",
     "status": "completed"
    },
    "tags": []
   },
   "outputs": [],
   "source": [
    "#step_7.b.hint()"
   ]
  },
  {
   "cell_type": "code",
   "execution_count": 25,
   "id": "07f06473",
   "metadata": {
    "execution": {
     "iopub.execute_input": "2022-07-02T02:20:43.451667Z",
     "iopub.status.busy": "2022-07-02T02:20:43.450385Z",
     "iopub.status.idle": "2022-07-02T02:20:43.461374Z",
     "shell.execute_reply": "2022-07-02T02:20:43.460373Z"
    },
    "papermill": {
     "duration": 0.030258,
     "end_time": "2022-07-02T02:20:43.463842",
     "exception": false,
     "start_time": "2022-07-02T02:20:43.433584",
     "status": "completed"
    },
    "tags": []
   },
   "outputs": [
    {
     "data": {
      "application/javascript": [
       "parent.postMessage({\"jupyterEvent\": \"custom.exercise_interaction\", \"data\": {\"interactionType\": 3, \"questionType\": 4, \"questionId\": \"7.2_ThinkSwarm\", \"learnToolsVersion\": \"0.3.4\", \"valueTowardsCompletion\": 0.0, \"failureMessage\": \"\", \"exceptionClass\": \"\", \"trace\": \"\", \"outcomeType\": 4}}, \"*\")"
      ],
      "text/plain": [
       "<IPython.core.display.Javascript object>"
      ]
     },
     "metadata": {},
     "output_type": "display_data"
    },
    {
     "data": {
      "text/markdown": [
       "<span style=\"color:#33cc99\">Solution:</span> In this case, the categorical scatter plot from **Step 7** is the more appropriate plot. While both plots tell the desired story, the plot from **Step 6** conveys far more information that could distract from the main point."
      ],
      "text/plain": [
       "Solution: In this case, the categorical scatter plot from **Step 7** is the more appropriate plot. While both plots tell the desired story, the plot from **Step 6** conveys far more information that could distract from the main point."
      ]
     },
     "metadata": {},
     "output_type": "display_data"
    }
   ],
   "source": [
    "# Check your answer (Run this code cell to receive credit!)\n",
    "step_7.b.solution()"
   ]
  },
  {
   "cell_type": "markdown",
   "id": "d121d1cb",
   "metadata": {
    "papermill": {
     "duration": 0.015328,
     "end_time": "2022-07-02T02:20:43.494781",
     "exception": false,
     "start_time": "2022-07-02T02:20:43.479453",
     "status": "completed"
    },
    "tags": []
   },
   "source": [
    "## Keep going\n",
    "\n",
    "Explore **[histograms and density plots](https://www.kaggle.com/alexisbcook/distributions)**."
   ]
  },
  {
   "cell_type": "markdown",
   "id": "d858b934",
   "metadata": {
    "papermill": {
     "duration": 0.015631,
     "end_time": "2022-07-02T02:20:43.526491",
     "exception": false,
     "start_time": "2022-07-02T02:20:43.510860",
     "status": "completed"
    },
    "tags": []
   },
   "source": [
    "---\n",
    "\n",
    "\n",
    "\n",
    "\n",
    "*Have questions or comments? Visit the [course discussion forum](https://www.kaggle.com/learn/data-visualization/discussion) to chat with other learners.*"
   ]
  }
 ],
 "metadata": {
  "kernelspec": {
   "display_name": "Python 3",
   "language": "python",
   "name": "python3"
  },
  "language_info": {
   "codemirror_mode": {
    "name": "ipython",
    "version": 3
   },
   "file_extension": ".py",
   "mimetype": "text/x-python",
   "name": "python",
   "nbconvert_exporter": "python",
   "pygments_lexer": "ipython3",
   "version": "3.7.12"
  },
  "papermill": {
   "default_parameters": {},
   "duration": 15.354296,
   "end_time": "2022-07-02T02:20:44.264729",
   "environment_variables": {},
   "exception": null,
   "input_path": "__notebook__.ipynb",
   "output_path": "__notebook__.ipynb",
   "parameters": {},
   "start_time": "2022-07-02T02:20:28.910433",
   "version": "2.3.4"
  }
 },
 "nbformat": 4,
 "nbformat_minor": 5
}
